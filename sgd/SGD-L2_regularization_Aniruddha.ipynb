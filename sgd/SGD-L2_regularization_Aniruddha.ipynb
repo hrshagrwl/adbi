{
 "cells": [
  {
   "cell_type": "markdown",
   "metadata": {},
   "source": [
    "## Stochastic gradient descent of Linear regression with L2 regularization\n",
    "The required imports"
   ]
  },
  {
   "cell_type": "code",
   "execution_count": 2,
   "metadata": {},
   "outputs": [],
   "source": [
    "import numpy as np\n",
    "import pandas as pd\n",
    "import random\n",
    "random.seed(7)"
   ]
  },
  {
   "cell_type": "markdown",
   "metadata": {},
   "source": [
    "readData() function reads a csv file containing the data. Data is stored in a directory named \"data\""
   ]
  },
  {
   "cell_type": "code",
   "execution_count": 3,
   "metadata": {},
   "outputs": [],
   "source": [
    "def readData():\n",
    "    # reads input file and returns a dataframe\n",
    "    data = pd.read_csv(\"data/data.csv\",header=None)\n",
    "    return data"
   ]
  },
  {
   "cell_type": "markdown",
   "metadata": {},
   "source": [
    "Gradient Step denotes a step in gradient descent where the weights are updated upon calculation of gradient on each training sample."
   ]
  },
  {
   "cell_type": "code",
   "execution_count": 4,
   "metadata": {},
   "outputs": [],
   "source": [
    "def gradient_step(m_old, b_old, lambda_, learning_rate, data):\n",
    "    y = data[1].tolist()\n",
    "    x = data[0].tolist()\n",
    "    N = len(x)\n",
    "    for i in range(0, len(x)):\n",
    "        m_old -= learning_rate*((-2/N)*(y[i] - m_old*x[i] - b_old)*x[i] + 2*lambda_*m_old)\n",
    "        b_old -= learning_rate*((-2/N)*(y[i] - m_old*x[i] - b_old))\n",
    "    return (m_old, b_old)"
   ]
  },
  {
   "cell_type": "markdown",
   "metadata": {},
   "source": [
    "Stochastic gradient descent algorithm"
   ]
  },
  {
   "cell_type": "code",
   "execution_count": 5,
   "metadata": {},
   "outputs": [],
   "source": [
    "def stochastic_gradient_descent(data, lambda_, learning_rate, iterations=100):\n",
    "    m = 0\n",
    "    b = 0\n",
    "    for i in range(iterations):\n",
    "        m, b = gradient_step(m, b, lambda_, learning_rate, data)\n",
    "    return (m, b)"
   ]
  },
  {
   "cell_type": "markdown",
   "metadata": {},
   "source": [
    "Function to compute the cost"
   ]
  },
  {
   "cell_type": "code",
   "execution_count": 6,
   "metadata": {},
   "outputs": [],
   "source": [
    "def compute_cost(data, m, b, lambda_):\n",
    "    x = data[0]\n",
    "    y = data[1]\n",
    "    N = float(len(x))\n",
    "    t1 = (y-m*x-b)**2\n",
    "    s1 = np.sum(t1)\n",
    "    cost = s1/N + lambda_*(m**2)\n",
    "    return cost"
   ]
  },
  {
   "cell_type": "markdown",
   "metadata": {},
   "source": [
    "## Results\n",
    "Running stochastic gradient descent for the equation:\n",
    "```\n",
    "L(x, y) = MeanSquraedError + lambda_*(m^2)\n",
    "```\n",
    "lambda_ value is set to 0.001"
   ]
  },
  {
   "cell_type": "code",
   "execution_count": 11,
   "metadata": {},
   "outputs": [],
   "source": [
    "data = readData()\n",
    "# Randomly shuffle data\n",
    "data1 = data.sample(frac=1, random_state=1)\n",
    "\n",
    "iterations = 1000\n",
    "learning_rate = 0.0001\n",
    "lambda_ = 0.001"
   ]
  },
  {
   "cell_type": "code",
   "execution_count": 12,
   "metadata": {},
   "outputs": [
    {
     "name": "stdout",
     "output_type": "stream",
     "text": [
      "After 1000 iterations, value of m=1.4737051866925361, value of b=0.08882955364039179 and value of lambda=0.001. Final cost value = 112.6576749936473\n"
     ]
    }
   ],
   "source": [
    "m, b = stochastic_gradient_descent(data1, lambda_, learning_rate, iterations)\n",
    "final_error = compute_cost(data1, m, b, lambda_)\n",
    "print('After {} iterations, value of m={}, value of b={} and value of lambda={}. Final cost value = {}'.format(iterations, m, b, lambda_, final_error))"
   ]
  },
  {
   "cell_type": "code",
   "execution_count": 15,
   "metadata": {},
   "outputs": [
    {
     "data": {
      "text/plain": [
       "[<matplotlib.lines.Line2D at 0x114ff5f60>]"
      ]
     },
     "execution_count": 15,
     "metadata": {},
     "output_type": "execute_result"
    },
    {
     "data": {
      "image/png": "[encoded data removed]",
      "text/plain": [
       "<Figure size 432x288 with 1 Axes>"
      ]
     },
     "metadata": {
      "needs_background": "light"
     },
     "output_type": "display_data"
    }
   ],
   "source": [
    "\n",
    "import matplotlib.pyplot as plt\n",
    "plt.plot(data1[0], data1[1], 'ro')\n",
    "x = np.linspace(0, 80, 120)\n",
    "y = m*x + b\n",
    "plt.plot(x,y)"
   ]
  },
  {
   "cell_type": "code",
   "execution_count": 74,
   "metadata": {},
   "outputs": [
    {
     "name": "stderr",
     "output_type": "stream",
     "text": [
      "test_compute_cost (__main__.TestSGD) ... ok\n",
      "test_stochastic_gradient_descent (__main__.TestSGD) ... ok\n",
      "\n",
      "----------------------------------------------------------------------\n",
      "Ran 2 tests in 0.274s\n",
      "\n",
      "OK\n"
     ]
    },
    {
     "data": {
      "text/plain": [
       "<unittest.main.TestProgram at 0x2329570d470>"
      ]
     },
     "execution_count": 74,
     "metadata": {},
     "output_type": "execute_result"
    }
   ],
   "source": [
    "import unittest\n",
    "\n",
    "class TestSGD(unittest.TestCase):\n",
    "    def test_compute_cost(self):\n",
    "        df = pd.DataFrame({0: [10, 20], 1: [10, 20]})\n",
    "        m = 1\n",
    "        b = 1\n",
    "        l = 1\n",
    "        expected = 2\n",
    "        obtained = compute_cost(df, m, b, l)\n",
    "        self.assertEqual(expected, obtained)\n",
    "    \n",
    "    def test_stochastic_gradient_descent(self):\n",
    "        x = range(0,200)\n",
    "        y = [i*4 for i in x]\n",
    "        data = pd.DataFrame({0: x, 1: y})\n",
    "        m, b = stochastic_gradient_descent(data, 0, 0.00001, 1000)\n",
    "        expected_m = 4\n",
    "        expected_b = 0\n",
    "        np.testing.assert_almost_equal(m, expected_m, decimal=3)\n",
    "        np.testing.assert_almost_equal(b, expected_b, decimal=1)\n",
    "\n",
    "unittest.main(argv=[''], verbosity=2, exit=False)"
   ]
  }
 ],
 "metadata": {
  "kernelspec": {
   "display_name": "Python [default]",
   "language": "python",
   "name": "python3"
  },
  "language_info": {
   "codemirror_mode": {
    "name": "ipython",
    "version": 3
   },
   "file_extension": ".py",
   "mimetype": "text/x-python",
   "name": "python",
   "nbconvert_exporter": "python",
   "pygments_lexer": "ipython3",
   "version": "3.6.6"
  }
 },
 "nbformat": 4,
 "nbformat_minor": 2
}
