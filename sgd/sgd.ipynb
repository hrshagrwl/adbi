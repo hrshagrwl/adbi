{
 "cells": [
  {
   "cell_type": "markdown",
   "metadata": {},
   "source": [
    "# SGD for Linear Regression with L2 Regularization"
   ]
  },
  {
   "cell_type": "code",
   "execution_count": 60,
   "metadata": {},
   "outputs": [],
   "source": [
    "import numpy as np\n",
    "import pandas as pd\n",
    "import random\n",
    "import matplotlib.pyplot as plt\n",
    "\n",
    "random.seed(7)\n",
    "\n",
    "# Constants\n",
    "LAMBDA = 1e-3\n",
    "LR = 0.001\n",
    "ITERATIONS = 1000"
   ]
  },
  {
   "cell_type": "code",
   "execution_count": 61,
   "metadata": {},
   "outputs": [],
   "source": [
    "def get_data():\n",
    "    return pd.read_csv('data/data.csv', header=None)"
   ]
  },
  {
   "cell_type": "code",
   "execution_count": 65,
   "metadata": {},
   "outputs": [],
   "source": [
    "def gradient(m, b, data):\n",
    "    x = data[0].tolist()\n",
    "    y = data[1].tolist()\n",
    "    N = len(x)\n",
    "    for i in range(0, N):\n",
    "        m -= LR*((-2/N)*(y[i] - m*x[i] - b)*x[i] + 2*LAMBDA*m)\n",
    "        b -= LR*((-2/N)*(y[i] - m*x[i] - b))\n",
    "    return m, b\n",
    "\n",
    "def sgd(data):\n",
    "    m = 0\n",
    "    b = 0\n",
    "    for i in range(ITERATIONS):\n",
    "        m, b = gradient(m, b, data)\n",
    "    return m, b\n",
    "\n",
    "def cost(data, m, b):\n",
    "    x = np.array(data[0])\n",
    "    y = np.array(data[1])\n",
    "    N = float(len(x))\n",
    "    error = (y-m*x-b)**2\n",
    "    mse = np.sum(error)/N\n",
    "    cost = mse + LAMBDA *(m**2)\n",
    "    return cost"
   ]
  },
  {
   "cell_type": "code",
   "execution_count": 66,
   "metadata": {},
   "outputs": [
    {
     "name": "stdout",
     "output_type": "stream",
     "text": [
      "m -> 1.4524572241950602\n",
      "b -> 0.5733195656705068\n",
      "Cost -> 112.95579873434168\n"
     ]
    }
   ],
   "source": [
    "df = get_data()\n",
    "data = df.sample(frac=1, random_state=1)\n",
    "\n",
    "m, b = sgd(data)\n",
    "error = cost(data, m, b)\n",
    "\n",
    "print('m ->', m)\n",
    "print('b ->', b)\n",
    "print('Cost ->', error)"
   ]
  },
  {
   "cell_type": "code",
   "execution_count": 67,
   "metadata": {},
   "outputs": [
    {
     "data": {
      "text/plain": [
       "[<matplotlib.lines.Line2D at 0x1164b7dd8>]"
      ]
     },
     "execution_count": 67,
     "metadata": {},
     "output_type": "execute_result"
    },
    {
     "data": {
      "image/png": "[encoded data removed]",
      "text/plain": [
       "<Figure size 432x288 with 1 Axes>"
      ]
     },
     "metadata": {
      "needs_background": "light"
     },
     "output_type": "display_data"
    }
   ],
   "source": [
    "plt.plot(df[0], df[1], 'ro')\n",
    "x = np.linspace(0, 120, 200)\n",
    "y = m*x + b\n",
    "plt.plot(x,y)"
   ]
  },
  {
   "cell_type": "code",
   "execution_count": 81,
   "metadata": {},
   "outputs": [
    {
     "name": "stderr",
     "output_type": "stream",
     "text": [
      "test_cost (__main__.TestSGD) ... ok\n",
      "test_stochastic_gradient_descent (__main__.TestSGD) ... ok\n",
      "\n",
      "----------------------------------------------------------------------\n",
      "Ran 2 tests in 0.142s\n",
      "\n",
      "OK\n"
     ]
    },
    {
     "data": {
      "text/plain": [
       "<unittest.main.TestProgram at 0x1164a8cf8>"
      ]
     },
     "execution_count": 81,
     "metadata": {},
     "output_type": "execute_result"
    }
   ],
   "source": [
    "import unittest\n",
    "\n",
    "class TestSGD(unittest.TestCase):\n",
    "    def test_cost(self):\n",
    "        df = pd.DataFrame({0: [10, 20], 1: [10, 20]})\n",
    "        expected = 1\n",
    "        obtained = cost(df, 1, 1)\n",
    "        np.testing.assert_almost_equal(obtained, expected, decimal=3)\n",
    "    \n",
    "    def test_stochastic_gradient_descent(self):\n",
    "        x = range(0,200)\n",
    "        y = [i*4 for i in x]\n",
    "        data = pd.DataFrame({0: x, 1: y})\n",
    "        m, b = sgd(data)\n",
    "        np.testing.assert_almost_equal(m, 4, decimal=3)\n",
    "        np.testing.assert_almost_equal(b, 0, decimal=1)\n",
    "\n",
    "unittest.main(argv=[''], verbosity=2, exit=False)"
   ]
  },
  {
   "cell_type": "code",
   "execution_count": null,
   "metadata": {},
   "outputs": [],
   "source": []
  }
 ],
 "metadata": {
  "kernelspec": {
   "display_name": "Python [default]",
   "language": "python",
   "name": "python3"
  },
  "language_info": {
   "codemirror_mode": {
    "name": "ipython",
    "version": 3
   },
   "file_extension": ".py",
   "mimetype": "text/x-python",
   "name": "python",
   "nbconvert_exporter": "python",
   "pygments_lexer": "ipython3",
   "version": "3.6.6"
  }
 },
 "nbformat": 4,
 "nbformat_minor": 2
}
