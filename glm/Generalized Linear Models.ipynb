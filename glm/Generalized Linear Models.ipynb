{
 "cells": [
  {
   "cell_type": "markdown",
   "metadata": {},
   "source": [
    "# Generalized Linear Models"
   ]
  },
  {
   "cell_type": "code",
   "execution_count": 1,
   "metadata": {},
   "outputs": [
    {
     "data": {
      "text/html": [
       "'/Users/harsh/code/adbi/3-regression/1-glm'"
      ],
      "text/latex": [
       "'/Users/harsh/code/adbi/3-regression/1-glm'"
      ],
      "text/markdown": [
       "'/Users/harsh/code/adbi/3-regression/1-glm'"
      ],
      "text/plain": [
       "[1] \"/Users/harsh/code/adbi/3-regression/1-glm\""
      ]
     },
     "metadata": {},
     "output_type": "display_data"
    }
   ],
   "source": [
    "getwd()"
   ]
  },
  {
   "cell_type": "markdown",
   "metadata": {},
   "source": [
    "### Load the Data"
   ]
  },
  {
   "cell_type": "code",
   "execution_count": 2,
   "metadata": {},
   "outputs": [
    {
     "name": "stderr",
     "output_type": "stream",
     "text": [
      "readxl works best with a newer version of the tibble package.\n",
      "You currently have tibble v1.4.2.\n",
      "Falling back to column name repair from tibble <= v1.4.2.\n",
      "Message displays once per session.\n"
     ]
    },
    {
     "data": {
      "text/plain": [
       "   category           currency          sellerrating      duration     \n",
       " Length:1972        Length:1972        Min.   :    0   Min.   : 1.000  \n",
       " Class :character   Class :character   1st Qu.:  595   1st Qu.: 5.000  \n",
       " Mode  :character   Mode  :character   Median : 1853   Median : 7.000  \n",
       "                                       Mean   : 3560   Mean   : 6.486  \n",
       "                                       3rd Qu.: 3380   3rd Qu.: 7.000  \n",
       "                                       Max.   :37727   Max.   :10.000  \n",
       "    endday            closeprice        openprice       competitive    \n",
       " Length:1972        Min.   :  0.010   Min.   :  0.01   Min.   :0.0000  \n",
       " Class :character   1st Qu.:  4.907   1st Qu.:  1.23   1st Qu.:0.0000  \n",
       " Mode  :character   Median :  9.995   Median :  4.50   Median :1.0000  \n",
       "                    Mean   : 36.449   Mean   : 12.93   Mean   :0.5406  \n",
       "                    3rd Qu.: 28.000   3rd Qu.:  9.99   3rd Qu.:1.0000  \n",
       "                    Max.   :999.000   Max.   :999.00   Max.   :1.0000  "
      ]
     },
     "metadata": {},
     "output_type": "display_data"
    },
    {
     "data": {
      "text/html": [
       "<ol class=list-inline>\n",
       "\t<li>1972</li>\n",
       "\t<li>8</li>\n",
       "</ol>\n"
      ],
      "text/latex": [
       "\\begin{enumerate*}\n",
       "\\item 1972\n",
       "\\item 8\n",
       "\\end{enumerate*}\n"
      ],
      "text/markdown": [
       "1. 1972\n",
       "2. 8\n",
       "\n",
       "\n"
      ],
      "text/plain": [
       "[1] 1972    8"
      ]
     },
     "metadata": {},
     "output_type": "display_data"
    },
    {
     "data": {
      "text/html": [
       "<table>\n",
       "<thead><tr><th scope=col>category</th><th scope=col>currency</th><th scope=col>sellerrating</th><th scope=col>duration</th><th scope=col>endday</th><th scope=col>closeprice</th><th scope=col>openprice</th><th scope=col>competitive</th></tr></thead>\n",
       "<tbody>\n",
       "\t<tr><td>Music/Movie/Game</td><td>US              </td><td>3249            </td><td>5               </td><td>Mon             </td><td>0.01            </td><td>0.01            </td><td>0               </td></tr>\n",
       "\t<tr><td>Music/Movie/Game</td><td>US              </td><td>3249            </td><td>5               </td><td>Mon             </td><td>0.01            </td><td>0.01            </td><td>0               </td></tr>\n",
       "\t<tr><td>Music/Movie/Game</td><td>US              </td><td>3249            </td><td>5               </td><td>Mon             </td><td>0.01            </td><td>0.01            </td><td>0               </td></tr>\n",
       "\t<tr><td>Music/Movie/Game</td><td>US              </td><td>3249            </td><td>5               </td><td>Mon             </td><td>0.01            </td><td>0.01            </td><td>0               </td></tr>\n",
       "\t<tr><td>Music/Movie/Game</td><td>US              </td><td>3249            </td><td>5               </td><td>Mon             </td><td>0.01            </td><td>0.01            </td><td>0               </td></tr>\n",
       "\t<tr><td>Music/Movie/Game</td><td>US              </td><td>3249            </td><td>5               </td><td>Mon             </td><td>0.01            </td><td>0.01            </td><td>0               </td></tr>\n",
       "</tbody>\n",
       "</table>\n"
      ],
      "text/latex": [
       "\\begin{tabular}{r|llllllll}\n",
       " category & currency & sellerrating & duration & endday & closeprice & openprice & competitive\\\\\n",
       "\\hline\n",
       "\t Music/Movie/Game & US               & 3249             & 5                & Mon              & 0.01             & 0.01             & 0               \\\\\n",
       "\t Music/Movie/Game & US               & 3249             & 5                & Mon              & 0.01             & 0.01             & 0               \\\\\n",
       "\t Music/Movie/Game & US               & 3249             & 5                & Mon              & 0.01             & 0.01             & 0               \\\\\n",
       "\t Music/Movie/Game & US               & 3249             & 5                & Mon              & 0.01             & 0.01             & 0               \\\\\n",
       "\t Music/Movie/Game & US               & 3249             & 5                & Mon              & 0.01             & 0.01             & 0               \\\\\n",
       "\t Music/Movie/Game & US               & 3249             & 5                & Mon              & 0.01             & 0.01             & 0               \\\\\n",
       "\\end{tabular}\n"
      ],
      "text/markdown": [
       "\n",
       "category | currency | sellerrating | duration | endday | closeprice | openprice | competitive | \n",
       "|---|---|---|---|---|---|\n",
       "| Music/Movie/Game | US               | 3249             | 5                | Mon              | 0.01             | 0.01             | 0                | \n",
       "| Music/Movie/Game | US               | 3249             | 5                | Mon              | 0.01             | 0.01             | 0                | \n",
       "| Music/Movie/Game | US               | 3249             | 5                | Mon              | 0.01             | 0.01             | 0                | \n",
       "| Music/Movie/Game | US               | 3249             | 5                | Mon              | 0.01             | 0.01             | 0                | \n",
       "| Music/Movie/Game | US               | 3249             | 5                | Mon              | 0.01             | 0.01             | 0                | \n",
       "| Music/Movie/Game | US               | 3249             | 5                | Mon              | 0.01             | 0.01             | 0                | \n",
       "\n",
       "\n"
      ],
      "text/plain": [
       "  category         currency sellerrating duration endday closeprice openprice\n",
       "1 Music/Movie/Game US       3249         5        Mon    0.01       0.01     \n",
       "2 Music/Movie/Game US       3249         5        Mon    0.01       0.01     \n",
       "3 Music/Movie/Game US       3249         5        Mon    0.01       0.01     \n",
       "4 Music/Movie/Game US       3249         5        Mon    0.01       0.01     \n",
       "5 Music/Movie/Game US       3249         5        Mon    0.01       0.01     \n",
       "6 Music/Movie/Game US       3249         5        Mon    0.01       0.01     \n",
       "  competitive\n",
       "1 0          \n",
       "2 0          \n",
       "3 0          \n",
       "4 0          \n",
       "5 0          \n",
       "6 0          "
      ]
     },
     "metadata": {},
     "output_type": "display_data"
    }
   ],
   "source": [
    "library('readxl')\n",
    "df <- read_excel('eBayAuctions.xls')\n",
    "colnames(df)[which(names(df) == \"Competitive?\")] <- \"competitive\"\n",
    "names(df) <- tolower(names(df))\n",
    "summary(df)\n",
    "dim(df)\n",
    "head(df)"
   ]
  },
  {
   "cell_type": "markdown",
   "metadata": {},
   "source": [
    "### Create Pivot Table and Dummy Columns"
   ]
  },
  {
   "cell_type": "code",
   "execution_count": 3,
   "metadata": {},
   "outputs": [
    {
     "name": "stderr",
     "output_type": "stream",
     "text": [
      "Warning message in 1:(len - 1):\n",
      "“numerical expression has 2 elements: only the first used”Warning message in (i + 1):len:\n",
      "“numerical expression has 2 elements: only the first used”Warning message in (i + 1):len:\n",
      "“numerical expression has 2 elements: only the first used”Warning message in (i + 1):len:\n",
      "“numerical expression has 2 elements: only the first used”Warning message in (i + 1):len:\n",
      "“numerical expression has 2 elements: only the first used”Warning message in (i + 1):len:\n",
      "“numerical expression has 2 elements: only the first used”Warning message in (i + 1):len:\n",
      "“numerical expression has 2 elements: only the first used”Warning message in (i + 1):len:\n",
      "“numerical expression has 2 elements: only the first used”Warning message in (i + 1):len:\n",
      "“numerical expression has 2 elements: only the first used”Warning message in (i + 1):len:\n",
      "“numerical expression has 2 elements: only the first used”Warning message in (i + 1):len:\n",
      "“numerical expression has 2 elements: only the first used”Warning message in (i + 1):len:\n",
      "“numerical expression has 2 elements: only the first used”Warning message in (i + 1):len:\n",
      "“numerical expression has 2 elements: only the first used”Warning message in (i + 1):len:\n",
      "“numerical expression has 2 elements: only the first used”Warning message in (i + 1):len:\n",
      "“numerical expression has 2 elements: only the first used”Warning message in (i + 1):len:\n",
      "“numerical expression has 2 elements: only the first used”Warning message in (i + 1):len:\n",
      "“numerical expression has 2 elements: only the first used”Warning message in (i + 1):len:\n",
      "“numerical expression has 2 elements: only the first used”"
     ]
    },
    {
     "name": "stdout",
     "output_type": "stream",
     "text": [
      "               category competitive               merge\n",
      "1     Antique/Art/Craft   0.5649718   Antique/Art/Craft\n",
      "2            Automotive   0.3539326          Automotive\n",
      "3                 Books   0.5000000               Books\n",
      "4   Business/Industrial   0.6666667 Business/Industrial\n",
      "5  Clothing/Accessories   0.5042017               Books\n",
      "6          Coins/Stamps   0.2972973        Coins/Stamps\n",
      "7          Collectibles   0.5774059   Antique/Art/Craft\n",
      "8              Computer   0.6666667 Business/Industrial\n",
      "9           Electronics   0.8000000         Electronics\n",
      "10       EverythingElse   0.2352941      EverythingElse\n",
      "11        Health/Beauty   0.1718750       Health/Beauty\n",
      "12          Home/Garden   0.6568627 Business/Industrial\n",
      "13              Jewelry   0.3658537          Automotive\n",
      "14     Music/Movie/Game   0.6029777   Antique/Art/Craft\n",
      "15          Photography   0.8461538         Electronics\n",
      "16        Pottery/Glass   0.3500000          Automotive\n",
      "17        SportingGoods   0.7258065       SportingGoods\n",
      "18         Toys/Hobbies   0.5299145   Antique/Art/Craft\n"
     ]
    },
    {
     "name": "stderr",
     "output_type": "stream",
     "text": [
      "Warning message in 1:rows:\n",
      "“numerical expression has 2 elements: only the first used”Warning message in 1:(len - 1):\n",
      "“numerical expression has 2 elements: only the first used”Warning message in (i + 1):len:\n",
      "“numerical expression has 2 elements: only the first used”Warning message in (i + 1):len:\n",
      "“numerical expression has 2 elements: only the first used”"
     ]
    },
    {
     "name": "stdout",
     "output_type": "stream",
     "text": [
      "  currency competitive merge\n",
      "1      EUR   0.5515947   EUR\n",
      "2      GBP   0.6870748   GBP\n",
      "3       US   0.5193498   EUR\n"
     ]
    },
    {
     "name": "stderr",
     "output_type": "stream",
     "text": [
      "Warning message in 1:rows:\n",
      "“numerical expression has 2 elements: only the first used”Warning message in 1:(len - 1):\n",
      "“numerical expression has 2 elements: only the first used”Warning message in (i + 1):len:\n",
      "“numerical expression has 2 elements: only the first used”Warning message in (i + 1):len:\n",
      "“numerical expression has 2 elements: only the first used”Warning message in (i + 1):len:\n",
      "“numerical expression has 2 elements: only the first used”Warning message in (i + 1):len:\n",
      "“numerical expression has 2 elements: only the first used”Warning message in (i + 1):len:\n",
      "“numerical expression has 2 elements: only the first used”Warning message in (i + 1):len:\n",
      "“numerical expression has 2 elements: only the first used”"
     ]
    },
    {
     "name": "stdout",
     "output_type": "stream",
     "text": [
      "  endday competitive merge\n",
      "1    Fri   0.4668990   Fri\n",
      "2    Mon   0.6733577   Mon\n",
      "3    Sat   0.4273504   Fri\n",
      "4    Sun   0.4852071   Fri\n",
      "5    Thu   0.6039604   Thu\n",
      "6    Tue   0.5321637   Fri\n",
      "7    Wed   0.4800000   Fri\n"
     ]
    },
    {
     "name": "stderr",
     "output_type": "stream",
     "text": [
      "Warning message in 1:rows:\n",
      "“numerical expression has 2 elements: only the first used”Warning message in 1:(len - 1):\n",
      "“numerical expression has 2 elements: only the first used”Warning message in (i + 1):len:\n",
      "“numerical expression has 2 elements: only the first used”Warning message in (i + 1):len:\n",
      "“numerical expression has 2 elements: only the first used”Warning message in (i + 1):len:\n",
      "“numerical expression has 2 elements: only the first used”Warning message in (i + 1):len:\n",
      "“numerical expression has 2 elements: only the first used”"
     ]
    },
    {
     "name": "stdout",
     "output_type": "stream",
     "text": [
      "  duration competitive merge\n",
      "1        1   0.5217391     1\n",
      "2        3   0.4507042     3\n",
      "3        5   0.6866953     5\n",
      "4        7   0.4891417     3\n",
      "5       10   0.5445545     1\n"
     ]
    },
    {
     "name": "stderr",
     "output_type": "stream",
     "text": [
      "Warning message in 1:rows:\n",
      "“numerical expression has 2 elements: only the first used”"
     ]
    },
    {
     "data": {
      "text/html": [
       "<table>\n",
       "<thead><tr><th scope=col>sellerrating</th><th scope=col>closeprice</th><th scope=col>openprice</th><th scope=col>competitive</th><th scope=col>d_category_Antique/Art/Craft</th><th scope=col>d_category_Automotive</th><th scope=col>d_category_SportingGoods</th><th scope=col>d_category_Business/Industrial</th><th scope=col>d_category_Books</th><th scope=col>d_category_Electronics</th><th scope=col>⋯</th><th scope=col>d_category_Coins/Stamps</th><th scope=col>d_category_Health/Beauty</th><th scope=col>d_currency_EUR</th><th scope=col>d_currency_GBP</th><th scope=col>d_endday_Mon</th><th scope=col>d_endday_Fri</th><th scope=col>d_endday_Thu</th><th scope=col>d_duration_5</th><th scope=col>d_duration_3</th><th scope=col>d_duration_1</th></tr></thead>\n",
       "<tbody>\n",
       "\t<tr><td>3249</td><td>0.01</td><td>0.01</td><td>0   </td><td>1   </td><td>1   </td><td>1   </td><td>1   </td><td>1   </td><td>1   </td><td>⋯   </td><td>1   </td><td>1   </td><td>1   </td><td>1   </td><td>1   </td><td>1   </td><td>1   </td><td>1   </td><td>1   </td><td>1   </td></tr>\n",
       "\t<tr><td>3249</td><td>0.01</td><td>0.01</td><td>0   </td><td>0   </td><td>0   </td><td>0   </td><td>0   </td><td>0   </td><td>0   </td><td>⋯   </td><td>0   </td><td>0   </td><td>0   </td><td>0   </td><td>0   </td><td>0   </td><td>0   </td><td>0   </td><td>0   </td><td>0   </td></tr>\n",
       "\t<tr><td>3249</td><td>0.01</td><td>0.01</td><td>0   </td><td>0   </td><td>0   </td><td>0   </td><td>0   </td><td>0   </td><td>0   </td><td>⋯   </td><td>0   </td><td>0   </td><td>1   </td><td>1   </td><td>0   </td><td>0   </td><td>0   </td><td>0   </td><td>0   </td><td>0   </td></tr>\n",
       "\t<tr><td>3249</td><td>0.01</td><td>0.01</td><td>0   </td><td>0   </td><td>0   </td><td>0   </td><td>0   </td><td>0   </td><td>0   </td><td>⋯   </td><td>0   </td><td>0   </td><td>0   </td><td>0   </td><td>1   </td><td>1   </td><td>1   </td><td>1   </td><td>1   </td><td>1   </td></tr>\n",
       "\t<tr><td>3249</td><td>0.01</td><td>0.01</td><td>0   </td><td>0   </td><td>0   </td><td>0   </td><td>0   </td><td>0   </td><td>0   </td><td>⋯   </td><td>0   </td><td>0   </td><td>1   </td><td>1   </td><td>0   </td><td>0   </td><td>0   </td><td>0   </td><td>0   </td><td>0   </td></tr>\n",
       "\t<tr><td>3249</td><td>0.01</td><td>0.01</td><td>0   </td><td>0   </td><td>0   </td><td>0   </td><td>0   </td><td>0   </td><td>0   </td><td>⋯   </td><td>0   </td><td>0   </td><td>0   </td><td>0   </td><td>0   </td><td>0   </td><td>0   </td><td>0   </td><td>0   </td><td>0   </td></tr>\n",
       "</tbody>\n",
       "</table>\n"
      ],
      "text/latex": [
       "\\begin{tabular}{r|lllllllllllllllllllll}\n",
       " sellerrating & closeprice & openprice & competitive & d\\_category\\_Antique/Art/Craft & d\\_category\\_Automotive & d\\_category\\_SportingGoods & d\\_category\\_Business/Industrial & d\\_category\\_Books & d\\_category\\_Electronics & ⋯ & d\\_category\\_Coins/Stamps & d\\_category\\_Health/Beauty & d\\_currency\\_EUR & d\\_currency\\_GBP & d\\_endday\\_Mon & d\\_endday\\_Fri & d\\_endday\\_Thu & d\\_duration\\_5 & d\\_duration\\_3 & d\\_duration\\_1\\\\\n",
       "\\hline\n",
       "\t 3249 & 0.01 & 0.01 & 0    & 1    & 1    & 1    & 1    & 1    & 1    & ⋯    & 1    & 1    & 1    & 1    & 1    & 1    & 1    & 1    & 1    & 1   \\\\\n",
       "\t 3249 & 0.01 & 0.01 & 0    & 0    & 0    & 0    & 0    & 0    & 0    & ⋯    & 0    & 0    & 0    & 0    & 0    & 0    & 0    & 0    & 0    & 0   \\\\\n",
       "\t 3249 & 0.01 & 0.01 & 0    & 0    & 0    & 0    & 0    & 0    & 0    & ⋯    & 0    & 0    & 1    & 1    & 0    & 0    & 0    & 0    & 0    & 0   \\\\\n",
       "\t 3249 & 0.01 & 0.01 & 0    & 0    & 0    & 0    & 0    & 0    & 0    & ⋯    & 0    & 0    & 0    & 0    & 1    & 1    & 1    & 1    & 1    & 1   \\\\\n",
       "\t 3249 & 0.01 & 0.01 & 0    & 0    & 0    & 0    & 0    & 0    & 0    & ⋯    & 0    & 0    & 1    & 1    & 0    & 0    & 0    & 0    & 0    & 0   \\\\\n",
       "\t 3249 & 0.01 & 0.01 & 0    & 0    & 0    & 0    & 0    & 0    & 0    & ⋯    & 0    & 0    & 0    & 0    & 0    & 0    & 0    & 0    & 0    & 0   \\\\\n",
       "\\end{tabular}\n"
      ],
      "text/markdown": [
       "\n",
       "sellerrating | closeprice | openprice | competitive | d_category_Antique/Art/Craft | d_category_Automotive | d_category_SportingGoods | d_category_Business/Industrial | d_category_Books | d_category_Electronics | ⋯ | d_category_Coins/Stamps | d_category_Health/Beauty | d_currency_EUR | d_currency_GBP | d_endday_Mon | d_endday_Fri | d_endday_Thu | d_duration_5 | d_duration_3 | d_duration_1 | \n",
       "|---|---|---|---|---|---|\n",
       "| 3249 | 0.01 | 0.01 | 0    | 1    | 1    | 1    | 1    | 1    | 1    | ⋯    | 1    | 1    | 1    | 1    | 1    | 1    | 1    | 1    | 1    | 1    | \n",
       "| 3249 | 0.01 | 0.01 | 0    | 0    | 0    | 0    | 0    | 0    | 0    | ⋯    | 0    | 0    | 0    | 0    | 0    | 0    | 0    | 0    | 0    | 0    | \n",
       "| 3249 | 0.01 | 0.01 | 0    | 0    | 0    | 0    | 0    | 0    | 0    | ⋯    | 0    | 0    | 1    | 1    | 0    | 0    | 0    | 0    | 0    | 0    | \n",
       "| 3249 | 0.01 | 0.01 | 0    | 0    | 0    | 0    | 0    | 0    | 0    | ⋯    | 0    | 0    | 0    | 0    | 1    | 1    | 1    | 1    | 1    | 1    | \n",
       "| 3249 | 0.01 | 0.01 | 0    | 0    | 0    | 0    | 0    | 0    | 0    | ⋯    | 0    | 0    | 1    | 1    | 0    | 0    | 0    | 0    | 0    | 0    | \n",
       "| 3249 | 0.01 | 0.01 | 0    | 0    | 0    | 0    | 0    | 0    | 0    | ⋯    | 0    | 0    | 0    | 0    | 0    | 0    | 0    | 0    | 0    | 0    | \n",
       "\n",
       "\n"
      ],
      "text/plain": [
       "  sellerrating closeprice openprice competitive d_category_Antique/Art/Craft\n",
       "1 3249         0.01       0.01      0           1                           \n",
       "2 3249         0.01       0.01      0           0                           \n",
       "3 3249         0.01       0.01      0           0                           \n",
       "4 3249         0.01       0.01      0           0                           \n",
       "5 3249         0.01       0.01      0           0                           \n",
       "6 3249         0.01       0.01      0           0                           \n",
       "  d_category_Automotive d_category_SportingGoods d_category_Business/Industrial\n",
       "1 1                     1                        1                             \n",
       "2 0                     0                        0                             \n",
       "3 0                     0                        0                             \n",
       "4 0                     0                        0                             \n",
       "5 0                     0                        0                             \n",
       "6 0                     0                        0                             \n",
       "  d_category_Books d_category_Electronics ⋯ d_category_Coins/Stamps\n",
       "1 1                1                      ⋯ 1                      \n",
       "2 0                0                      ⋯ 0                      \n",
       "3 0                0                      ⋯ 0                      \n",
       "4 0                0                      ⋯ 0                      \n",
       "5 0                0                      ⋯ 0                      \n",
       "6 0                0                      ⋯ 0                      \n",
       "  d_category_Health/Beauty d_currency_EUR d_currency_GBP d_endday_Mon\n",
       "1 1                        1              1              1           \n",
       "2 0                        0              0              0           \n",
       "3 0                        1              1              0           \n",
       "4 0                        0              0              1           \n",
       "5 0                        1              1              0           \n",
       "6 0                        0              0              0           \n",
       "  d_endday_Fri d_endday_Thu d_duration_5 d_duration_3 d_duration_1\n",
       "1 1            1            1            1            1           \n",
       "2 0            0            0            0            0           \n",
       "3 0            0            0            0            0           \n",
       "4 1            1            1            1            1           \n",
       "5 0            0            0            0            0           \n",
       "6 0            0            0            0            0           "
      ]
     },
     "metadata": {},
     "output_type": "display_data"
    }
   ],
   "source": [
    "library(reshape)\n",
    "\n",
    "# Function to generate Pivot table for a colum\n",
    "generatePivotTable <- function(df, col) {\n",
    "    # Melt the column we want    \n",
    "    df_melt = melt(df, id.vars = c(col), measure.vars = 'competitive')\n",
    "    # Cast to pivot form\n",
    "    p_table <- cast(df_melt, paste(paste(col), \"~\", \"variable\"), mean)\n",
    "    # Duplicate the first column so we can merge\n",
    "    p_table['merge'] <- p_table[1]\n",
    "    # Number of rows in the table\n",
    "    len <- dim(p_table[1])\n",
    "    # Threshold of ratio/mean to use for merging the categorical varaibles\n",
    "    threshold <- 0.05\n",
    "    # Merge\n",
    "    for (i in 1:(len-1)) {\n",
    "        for (j in (i+1):len){\n",
    "            if (abs(p_table[i,2] - p_table[j,2]) < threshold) {\n",
    "                p_table[j,3] = p_table[i,3]\n",
    "            }\n",
    "        }\n",
    "    }\n",
    "    return (p_table)\n",
    "}\n",
    "\n",
    "createDummy <- function(x, col) {\n",
    "    for (level in unique(x[,col])) {\n",
    "        x[paste('d', col, level, sep = \"_\")] <- ifelse(x[,col] == level, 1, 0)\n",
    "    }\n",
    "    return(x)\n",
    "}\n",
    "\n",
    "# Columns to check and merge\n",
    "columns <- c('category', 'currency', 'endday', 'duration')\n",
    "\n",
    "for (col in columns) {\n",
    "    # Generate Pivot table for col\n",
    "    p_table <- generatePivotTable(df, col)\n",
    "    print(p_table)\n",
    "    # Merge Rows\n",
    "    rows <- dim(p_table[1])\n",
    "    for (i in 1:rows) {\n",
    "      df[df[paste(col)] == p_table[i,1], paste(col)] = p_table[i,3]\n",
    "    }\n",
    "    # Create dummy columns     \n",
    "    df <- createDummy(df, col)\n",
    "    # Drop the column\n",
    "    df[, paste(col)] <- NULL\n",
    "}\n",
    "\n",
    "head(df)"
   ]
  },
  {
   "cell_type": "markdown",
   "metadata": {},
   "source": [
    "### Split Data into train/test"
   ]
  },
  {
   "cell_type": "code",
   "execution_count": 4,
   "metadata": {},
   "outputs": [],
   "source": [
    "## 60% of the sample size\n",
    "smp_size <- floor(0.60 * nrow(df))\n",
    "\n",
    "## set the seed to make your partition reproducible\n",
    "set.seed(123)\n",
    "train_ind <- sample(seq_len(nrow(df)), size = smp_size)\n",
    "\n",
    "train <- df[train_ind, ]\n",
    "test <- df[-train_ind, ]"
   ]
  },
  {
   "cell_type": "markdown",
   "metadata": {},
   "source": [
    "### Train fit.all"
   ]
  },
  {
   "cell_type": "code",
   "execution_count": 5,
   "metadata": {},
   "outputs": [
    {
     "name": "stderr",
     "output_type": "stream",
     "text": [
      "Warning message:\n",
      "“glm.fit: fitted probabilities numerically 0 or 1 occurred”"
     ]
    }
   ],
   "source": [
    "fit.all <- glm(`competitive` ~., family = binomial(link = 'logit'), data = train)"
   ]
  },
  {
   "cell_type": "code",
   "execution_count": 6,
   "metadata": {},
   "outputs": [
    {
     "data": {
      "text/plain": [
       "\n",
       "Call:\n",
       "glm(formula = competitive ~ ., family = binomial(link = \"logit\"), \n",
       "    data = train)\n",
       "\n",
       "Deviance Residuals: \n",
       "    Min       1Q   Median       3Q      Max  \n",
       "-4.7429  -0.9375   0.0001   0.9968   2.4957  \n",
       "\n",
       "Coefficients: (13 not defined because of singularities)\n",
       "                                   Estimate Std. Error z value Pr(>|z|)    \n",
       "(Intercept)                      -2.220e-01  1.349e-01  -1.645   0.0999 .  \n",
       "sellerrating                     -2.305e-05  1.330e-05  -1.733   0.0831 .  \n",
       "closeprice                        1.355e-01  1.310e-02  10.341   <2e-16 ***\n",
       "openprice                        -1.512e-01  1.378e-02 -10.969   <2e-16 ***\n",
       "`d_category_Antique/Art/Craft`   -2.976e-02  2.193e-01  -0.136   0.8921    \n",
       "d_category_Automotive                    NA         NA      NA       NA    \n",
       "d_category_SportingGoods                 NA         NA      NA       NA    \n",
       "`d_category_Business/Industrial`         NA         NA      NA       NA    \n",
       "d_category_Books                         NA         NA      NA       NA    \n",
       "d_category_Electronics                   NA         NA      NA       NA    \n",
       "d_category_EverythingElse                NA         NA      NA       NA    \n",
       "`d_category_Coins/Stamps`                NA         NA      NA       NA    \n",
       "`d_category_Health/Beauty`               NA         NA      NA       NA    \n",
       "d_currency_EUR                   -2.153e-01  1.357e-01  -1.587   0.1126    \n",
       "d_currency_GBP                           NA         NA      NA       NA    \n",
       "d_endday_Mon                     -1.813e-02  1.542e-01  -0.118   0.9064    \n",
       "d_endday_Fri                             NA         NA      NA       NA    \n",
       "d_endday_Thu                             NA         NA      NA       NA    \n",
       "d_duration_5                     -1.237e-01  1.585e-01  -0.780   0.4353    \n",
       "d_duration_3                             NA         NA      NA       NA    \n",
       "d_duration_1                             NA         NA      NA       NA    \n",
       "---\n",
       "Signif. codes:  0 ‘***’ 0.001 ‘**’ 0.01 ‘*’ 0.05 ‘.’ 0.1 ‘ ’ 1\n",
       "\n",
       "(Dispersion parameter for binomial family taken to be 1)\n",
       "\n",
       "    Null deviance: 1636.4  on 1182  degrees of freedom\n",
       "Residual deviance: 1258.3  on 1175  degrees of freedom\n",
       "AIC: 1274.3\n",
       "\n",
       "Number of Fisher Scoring iterations: 8\n"
      ]
     },
     "metadata": {},
     "output_type": "display_data"
    }
   ],
   "source": [
    "summary(fit.all)"
   ]
  },
  {
   "cell_type": "markdown",
   "metadata": {},
   "source": [
    "### Predict and check accuracy"
   ]
  },
  {
   "cell_type": "code",
   "execution_count": 30,
   "metadata": {},
   "outputs": [
    {
     "name": "stderr",
     "output_type": "stream",
     "text": [
      "Warning message in predict.lm(object, newdata, se.fit, scale = 1, type = ifelse(type == :\n",
      "“prediction from a rank-deficient fit may be misleading”"
     ]
    },
    {
     "name": "stdout",
     "output_type": "stream",
     "text": [
      "[1] 0.7756654\n"
     ]
    }
   ],
   "source": [
    "predicted <- predict(fit.all, test, type = 'response')\n",
    "predicted <- ifelse(predicted > 0.5, 1, 0)\n",
    "accuracy <- mean(test$competitive == predicted)\n",
    "print(accuracy)"
   ]
  },
  {
   "cell_type": "markdown",
   "metadata": {},
   "source": [
    "### find predictor with highest absolute coefficient value"
   ]
  },
  {
   "cell_type": "code",
   "execution_count": 22,
   "metadata": {},
   "outputs": [
    {
     "name": "stdout",
     "output_type": "stream",
     "text": [
      "                     (Intercept)                     sellerrating \n",
      "                   -2.220110e-01                    -2.304733e-05 \n",
      "                      closeprice                        openprice \n",
      "                    1.354970e-01                    -1.511612e-01 \n",
      "  `d_category_Antique/Art/Craft`            d_category_Automotive \n",
      "                   -2.975724e-02                               NA \n",
      "        d_category_SportingGoods `d_category_Business/Industrial` \n",
      "                              NA                               NA \n",
      "                d_category_Books           d_category_Electronics \n",
      "                              NA                               NA \n",
      "       d_category_EverythingElse        `d_category_Coins/Stamps` \n",
      "                              NA                               NA \n",
      "      `d_category_Health/Beauty`                   d_currency_EUR \n",
      "                              NA                    -2.153414e-01 \n",
      "                  d_currency_GBP                     d_endday_Mon \n",
      "                              NA                    -1.812749e-02 \n",
      "                    d_endday_Fri                     d_endday_Thu \n",
      "                              NA                               NA \n",
      "                    d_duration_5                     d_duration_3 \n",
      "                   -1.236763e-01                               NA \n",
      "                    d_duration_1 \n",
      "                              NA \n"
     ]
    }
   ],
   "source": [
    "coef = fit.all$coefficients\n",
    "print(coef)"
   ]
  },
  {
   "cell_type": "code",
   "execution_count": 23,
   "metadata": {},
   "outputs": [
    {
     "data": {
      "text/html": [
       "<dl class=dl-horizontal>\n",
       "\t<dt>sellerrating</dt>\n",
       "\t\t<dd>2.30473328886959e-05</dd>\n",
       "\t<dt>d_endday_Mon</dt>\n",
       "\t\t<dd>0.0181274874325235</dd>\n",
       "\t<dt>`d_category_Antique/Art/Craft`</dt>\n",
       "\t\t<dd>0.029757244212542</dd>\n",
       "\t<dt>d_duration_5</dt>\n",
       "\t\t<dd>0.123676280673723</dd>\n",
       "\t<dt>closeprice</dt>\n",
       "\t\t<dd>0.135496990839086</dd>\n",
       "\t<dt>openprice</dt>\n",
       "\t\t<dd>0.151161171550078</dd>\n",
       "\t<dt>d_currency_EUR</dt>\n",
       "\t\t<dd>0.215341437564903</dd>\n",
       "\t<dt>(Intercept)</dt>\n",
       "\t\t<dd>0.222011004707867</dd>\n",
       "</dl>\n"
      ],
      "text/latex": [
       "\\begin{description*}\n",
       "\\item[sellerrating] 2.30473328886959e-05\n",
       "\\item[d\\textbackslash{}\\_endday\\textbackslash{}\\_Mon] 0.0181274874325235\n",
       "\\item[`d\\textbackslash{}\\_category\\textbackslash{}\\_Antique/Art/Craft`] 0.029757244212542\n",
       "\\item[d\\textbackslash{}\\_duration\\textbackslash{}\\_5] 0.123676280673723\n",
       "\\item[closeprice] 0.135496990839086\n",
       "\\item[openprice] 0.151161171550078\n",
       "\\item[d\\textbackslash{}\\_currency\\textbackslash{}\\_EUR] 0.215341437564903\n",
       "\\item[(Intercept)] 0.222011004707867\n",
       "\\end{description*}\n"
      ],
      "text/markdown": [
       "sellerrating\n",
       ":   2.30473328886959e-05d_endday_Mon\n",
       ":   0.0181274874325235`d_category_Antique/Art/Craft`\n",
       ":   0.029757244212542d_duration_5\n",
       ":   0.123676280673723closeprice\n",
       ":   0.135496990839086openprice\n",
       ":   0.151161171550078d_currency_EUR\n",
       ":   0.215341437564903(Intercept)\n",
       ":   0.222011004707867\n",
       "\n"
      ],
      "text/plain": [
       "                  sellerrating                   d_endday_Mon \n",
       "                  2.304733e-05                   1.812749e-02 \n",
       "`d_category_Antique/Art/Craft`                   d_duration_5 \n",
       "                  2.975724e-02                   1.236763e-01 \n",
       "                    closeprice                      openprice \n",
       "                  1.354970e-01                   1.511612e-01 \n",
       "                d_currency_EUR                    (Intercept) \n",
       "                  2.153414e-01                   2.220110e-01 "
      ]
     },
     "metadata": {},
     "output_type": "display_data"
    }
   ],
   "source": [
    "sort(abs(coef))"
   ]
  },
  {
   "cell_type": "markdown",
   "metadata": {},
   "source": [
    "### Train fit.single"
   ]
  },
  {
   "cell_type": "code",
   "execution_count": 24,
   "metadata": {},
   "outputs": [
    {
     "name": "stdout",
     "output_type": "stream",
     "text": [
      "d_currency_EUR \n",
      "    -0.2153414 \n",
      "[1] \"d_currency_EUR\"\n"
     ]
    }
   ],
   "source": [
    "max = 0\n",
    "name = names(coef)[1]\n",
    "index = 1;\n",
    "for (i in 2:length(coef)) {\n",
    "    val = abs(as.numeric(coef[i]))\n",
    "    if (!is.na(val) && val > abs(as.numeric(max))) {\n",
    "        name = names(coef)[i]\n",
    "        if (name != '(Intercept)') {\n",
    "            max = coef[i]\n",
    "            index = i\n",
    "        }\n",
    "    }  \n",
    "}\n",
    "\n",
    "print(max)\n",
    "print(name)\n",
    "\n",
    "subset = c(\"competitive\", name)\n",
    "fit.single = glm(competitive ~., family = binomial(link='logit'), data = train[subset])"
   ]
  },
  {
   "cell_type": "code",
   "execution_count": 25,
   "metadata": {},
   "outputs": [
    {
     "data": {
      "text/plain": [
       "\n",
       "Call:\n",
       "glm(formula = competitive ~ ., family = binomial(link = \"logit\"), \n",
       "    data = train[subset])\n",
       "\n",
       "Deviance Residuals: \n",
       "   Min      1Q  Median      3Q     Max  \n",
       "-1.261  -1.189   1.096   1.166   1.166  \n",
       "\n",
       "Coefficients:\n",
       "               Estimate Std. Error z value Pr(>|z|)  \n",
       "(Intercept)     0.19549    0.08308   2.353   0.0186 *\n",
       "d_currency_EUR -0.16873    0.11659  -1.447   0.1478  \n",
       "---\n",
       "Signif. codes:  0 ‘***’ 0.001 ‘**’ 0.01 ‘*’ 0.05 ‘.’ 0.1 ‘ ’ 1\n",
       "\n",
       "(Dispersion parameter for binomial family taken to be 1)\n",
       "\n",
       "    Null deviance: 1636.4  on 1182  degrees of freedom\n",
       "Residual deviance: 1634.3  on 1181  degrees of freedom\n",
       "AIC: 1638.3\n",
       "\n",
       "Number of Fisher Scoring iterations: 3\n"
      ]
     },
     "metadata": {},
     "output_type": "display_data"
    }
   ],
   "source": [
    "summary(fit.single)"
   ]
  },
  {
   "cell_type": "markdown",
   "metadata": {},
   "source": [
    "### Find Significant predictors"
   ]
  },
  {
   "cell_type": "code",
   "execution_count": 26,
   "metadata": {},
   "outputs": [
    {
     "name": "stdout",
     "output_type": "stream",
     "text": [
      "             Estimate Std. Error   z value     Pr(>|z|)\n",
      "closeprice  0.1354970 0.01310350  10.34052 4.620204e-25\n",
      "openprice  -0.1511612 0.01378103 -10.96879 5.399195e-28\n"
     ]
    }
   ],
   "source": [
    "significance_level = 0.05\n",
    "\n",
    "coefs = summary(fit.all)$coefficients\n",
    "significant_predictors = coefs[coefs[,4] < significance_level,]\n",
    "print(significant_predictors)"
   ]
  },
  {
   "cell_type": "markdown",
   "metadata": {},
   "source": [
    "### Train fit.reduced"
   ]
  },
  {
   "cell_type": "code",
   "execution_count": 27,
   "metadata": {},
   "outputs": [
    {
     "name": "stderr",
     "output_type": "stream",
     "text": [
      "Warning message:\n",
      "“glm.fit: fitted probabilities numerically 0 or 1 occurred”"
     ]
    },
    {
     "data": {
      "text/plain": [
       "\n",
       "Call:\n",
       "glm(formula = competitive ~ ., family = binomial(link = \"logit\"), \n",
       "    data = train[subset])\n",
       "\n",
       "Deviance Residuals: \n",
       "    Min       1Q   Median       3Q      Max  \n",
       "-4.7397  -0.9455   0.0001   1.0102   2.5705  \n",
       "\n",
       "Coefficients:\n",
       "            Estimate Std. Error z value Pr(>|z|)    \n",
       "(Intercept) -0.46376    0.08590  -5.399 6.72e-08 ***\n",
       "closeprice   0.13790    0.01317  10.467  < 2e-16 ***\n",
       "openprice   -0.15364    0.01386 -11.083  < 2e-16 ***\n",
       "---\n",
       "Signif. codes:  0 ‘***’ 0.001 ‘**’ 0.01 ‘*’ 0.05 ‘.’ 0.1 ‘ ’ 1\n",
       "\n",
       "(Dispersion parameter for binomial family taken to be 1)\n",
       "\n",
       "    Null deviance: 1636.4  on 1182  degrees of freedom\n",
       "Residual deviance: 1264.7  on 1180  degrees of freedom\n",
       "AIC: 1270.7\n",
       "\n",
       "Number of Fisher Scoring iterations: 8\n"
      ]
     },
     "metadata": {},
     "output_type": "display_data"
    }
   ],
   "source": [
    "subset = names(significant_predictors[,1])\n",
    "subset = c('competitive', subset)\n",
    "fit.reduced = glm(competitive ~., family = binomial(link='logit'), data = train[subset])\n",
    "summary(fit.reduced)"
   ]
  },
  {
   "cell_type": "markdown",
   "metadata": {},
   "source": [
    "### Anova"
   ]
  },
  {
   "cell_type": "code",
   "execution_count": 28,
   "metadata": {},
   "outputs": [
    {
     "data": {
      "text/html": [
       "<table>\n",
       "<thead><tr><th scope=col>Resid. Df</th><th scope=col>Resid. Dev</th><th scope=col>Df</th><th scope=col>Deviance</th><th scope=col>Pr(&gt;Chi)</th></tr></thead>\n",
       "<tbody>\n",
       "\t<tr><td>1180     </td><td>1264.706 </td><td>NA       </td><td>      NA </td><td>       NA</td></tr>\n",
       "\t<tr><td>1175     </td><td>1258.281 </td><td> 5       </td><td>6.425043 </td><td>0.2670283</td></tr>\n",
       "</tbody>\n",
       "</table>\n"
      ],
      "text/latex": [
       "\\begin{tabular}{r|lllll}\n",
       " Resid. Df & Resid. Dev & Df & Deviance & Pr(>Chi)\\\\\n",
       "\\hline\n",
       "\t 1180      & 1264.706  & NA        &       NA  &        NA\\\\\n",
       "\t 1175      & 1258.281  &  5        & 6.425043  & 0.2670283\\\\\n",
       "\\end{tabular}\n"
      ],
      "text/markdown": [
       "\n",
       "Resid. Df | Resid. Dev | Df | Deviance | Pr(>Chi) | \n",
       "|---|---|\n",
       "| 1180      | 1264.706  | NA        |       NA  |        NA | \n",
       "| 1175      | 1258.281  |  5        | 6.425043  | 0.2670283 | \n",
       "\n",
       "\n"
      ],
      "text/plain": [
       "  Resid. Df Resid. Dev Df Deviance Pr(>Chi) \n",
       "1 1180      1264.706   NA       NA        NA\n",
       "2 1175      1258.281    5 6.425043 0.2670283"
      ]
     },
     "metadata": {},
     "output_type": "display_data"
    }
   ],
   "source": [
    "anova(fit.reduced, fit.all, test='Chisq')"
   ]
  },
  {
   "cell_type": "markdown",
   "metadata": {},
   "source": [
    "### Over-Dispersion test"
   ]
  },
  {
   "cell_type": "code",
   "execution_count": 29,
   "metadata": {},
   "outputs": [
    {
     "name": "stderr",
     "output_type": "stream",
     "text": [
      "Package 'qcc' version 2.7\n",
      "Type 'citation(\"qcc\")' for citing this R package in publications.\n"
     ]
    },
    {
     "data": {
      "text/html": [
       "<table>\n",
       "<thead><tr><th></th><th scope=col>Obs.Var/Theor.Var</th><th scope=col>Statistic</th><th scope=col>p-value</th></tr></thead>\n",
       "<tbody>\n",
       "\t<tr><th scope=row>binomial data</th><td>0.4731382</td><td>559.2494 </td><td>1        </td></tr>\n",
       "</tbody>\n",
       "</table>\n"
      ],
      "text/latex": [
       "\\begin{tabular}{r|lll}\n",
       "  & Obs.Var/Theor.Var & Statistic & p-value\\\\\n",
       "\\hline\n",
       "\tbinomial data & 0.4731382 & 559.2494  & 1        \\\\\n",
       "\\end{tabular}\n"
      ],
      "text/markdown": [
       "\n",
       "| <!--/--> | Obs.Var/Theor.Var | Statistic | p-value | \n",
       "|---|\n",
       "| binomial data | 0.4731382 | 559.2494  | 1         | \n",
       "\n",
       "\n"
      ],
      "text/plain": [
       "                   \n",
       "Overdispersion test Obs.Var/Theor.Var Statistic p-value\n",
       "      binomial data 0.4731382         559.2494  1      "
      ]
     },
     "metadata": {},
     "output_type": "display_data"
    }
   ],
   "source": [
    "library(qcc)\n",
    "s = rep(length(train$competitive), length(train$competitive))\n",
    "qcc.overdispersion.test(train$competitive, size = s, type=\"binomial\")"
   ]
  }
 ],
 "metadata": {
  "kernelspec": {
   "display_name": "R",
   "language": "R",
   "name": "ir"
  },
  "language_info": {
   "codemirror_mode": "r",
   "file_extension": ".r",
   "mimetype": "text/x-r-source",
   "name": "R",
   "pygments_lexer": "r",
   "version": "3.5.1"
  }
 },
 "nbformat": 4,
 "nbformat_minor": 2
}
